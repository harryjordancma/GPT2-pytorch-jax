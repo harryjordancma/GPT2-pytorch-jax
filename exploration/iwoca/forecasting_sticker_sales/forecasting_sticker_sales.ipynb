{
 "cells": [
  {
   "cell_type": "code",
   "execution_count": 1,
   "id": "ef3146d3-8526-4993-a8d9-3fc679b9a1a0",
   "metadata": {},
   "outputs": [],
   "source": [
    "import pandas as pd\n",
    "import warnings\n",
    "import numpy as np\n",
    "import pandas as pd\n",
    "import matplotlib.pyplot as plt\n",
    "from sklearn.linear_model import LinearRegression\n",
    "from datetime import datetime\n",
    "# Suppress FutureWarning messages\n",
    "warnings.simplefilter(action='ignore', category=FutureWarning)"
   ]
  },
  {
   "cell_type": "code",
   "execution_count": 2,
   "id": "dfe7b7e8-6c95-489f-a207-d127d1797ec5",
   "metadata": {},
   "outputs": [],
   "source": [
    "train_data = pd.read_csv(\"train.csv\")\n",
    "test_data = pd.read_csv(\"test.csv\")"
   ]
  },
  {
   "cell_type": "code",
   "execution_count": 3,
   "id": "f5f84e7b-e45e-44a7-9c12-bd4607413a2a",
   "metadata": {},
   "outputs": [],
   "source": [
    "from sklearn.model_selection import TimeSeriesSplit\n",
    "from sklearn.metrics import mean_absolute_percentage_error"
   ]
  },
  {
   "cell_type": "code",
   "execution_count": 4,
   "id": "2a1cb532-fa38-4c33-974a-50f9bb3a7c08",
   "metadata": {},
   "outputs": [],
   "source": [
    "def preprocessing(df, remove_date=False):\n",
    "    \n",
    "    ## preprocessing\n",
    "    \n",
    "    df = df.dropna()\n",
    "    # Convert 'date' to datetime and extract useful features (e.g., year, month, day)\n",
    "    df['date'] = pd.to_datetime(df['date'])\n",
    "    df['year'] = df['date'].dt.year\n",
    "    df['month'] = df['date'].dt.month\n",
    "\n",
    "    # Feature engineering\n",
    "    df[\"month_sin\"] = np.sin(df['month'] * (2 * np.pi / 12))\n",
    "    df[\"month_cos\"] = np.cos(df['month'] * (2 * np.pi / 12))\n",
    "    \n",
    "    df['day'] = df['date'].dt.day\n",
    "    df[\"day_of_week\"] = df[\"date\"].dt.dayofweek\n",
    "    df[\"day_of_year\"] = df['date'].apply(\n",
    "        lambda x: x.timetuple().tm_yday if not (x.is_leap_year and x.month > 2) else x.timetuple().tm_yday - 1\n",
    "    )\n",
    "    important_dates = [1,2,3,4,5,6,7,8,9,10,99, 100, 101, 125,126,355,256,357,358,359,360,361,362,363,364,365]\n",
    "    df[\"important_dates\"] = df[\"day_of_year\"].apply(lambda x: x if x in important_dates else 0)\n",
    "    \n",
    "\n",
    "    # Drop unnecessary columns\n",
    "    if remove_date:\n",
    "        df = df.drop(columns=['id', 'date'])\n",
    "    else:\n",
    "        df = df.drop(columns=['id'])\n",
    "\n",
    "    # One-hot encode categorical variables\n",
    "    df = pd.get_dummies(df, columns=['country', 'store', 'product'], drop_first=True)\n",
    "\n",
    "    return df"
   ]
  },
  {
   "cell_type": "code",
   "execution_count": 5,
   "id": "b420ca03-0535-488c-9869-68accc9084ea",
   "metadata": {},
   "outputs": [],
   "source": [
    "def test_train_split(df, test_size=0.2):\n",
    "\n",
    "    # Calculate the cutoff date\n",
    "    cutoff_date = df['date'].iloc[int((1 - test_size) * len(df))]\n",
    "    \n",
    "    # Split the data based on the cutoff date\n",
    "    train = df[df['date'] < cutoff_date]  # All rows before the cutoff date\n",
    "    test = df[df['date'] >= cutoff_date]  # All rows on or after the cutoff date \n",
    "\n",
    "    # Separate features (X) and target (y)\n",
    "    X_train = train.drop(columns=['num_sold', 'date'])\n",
    "    y_train = train['num_sold']\n",
    "\n",
    "    X_test = test.drop(columns=['num_sold', 'date'])\n",
    "    y_test = test['num_sold']\n",
    "\n",
    "    print(f\"Train length: {len(train)}\")\n",
    "    print(f\"Test length: {len(test)}\")\n",
    "    print(\"Training set date range:\", train['date'].min(), \"to\", train['date'].max())\n",
    "    print(\"Testing set date range:\", test['date'].min(), \"to\", test['date'].max())\n",
    "\n",
    "    return X_train, X_test, y_train, y_test"
   ]
  },
  {
   "cell_type": "code",
   "execution_count": 6,
   "id": "890aacea-d150-405e-b629-82ac668a43db",
   "metadata": {},
   "outputs": [],
   "source": [
    "def fit_model(X_train, X_test, y_train):\n",
    "    # Initialize and train the linear regression model\n",
    "    model = LinearRegression()\n",
    "    model.fit(X_train, y_train)\n",
    "\n",
    "    return model"
   ]
  },
  {
   "cell_type": "code",
   "execution_count": 7,
   "id": "3a1183d0-677d-4485-b2a1-251a8b2d69ce",
   "metadata": {},
   "outputs": [],
   "source": [
    "def fit_model(X_train, y_train):\n",
    "    # Initialize and train the linear regression model\n",
    "    model = LinearRegression()\n",
    "    model.fit(X_train, y_train)\n",
    "\n",
    "    return model"
   ]
  },
  {
   "cell_type": "code",
   "execution_count": 8,
   "id": "e1a6d7d7-f5f2-4414-8904-1048e27dd418",
   "metadata": {},
   "outputs": [],
   "source": [
    "def model_predict(model, X_test):\n",
    "    # Make predictions\n",
    "    y_pred = model.predict(X_test)\n",
    "\n",
    "    # Convert predictions to integers\n",
    "    y_pred = np.round(y_pred).astype(int)  # Round to nearest integer and convert to int\n",
    "\n",
    "    # Clip negative values to zero\n",
    "    y_pred = np.clip(y_pred, 0, None)  # Set all values less than 0 to 0\n",
    "\n",
    "    return y_pred"
   ]
  },
  {
   "cell_type": "code",
   "execution_count": 9,
   "id": "5f8153b3-0147-4ada-9d49-3ffbd4d75a45",
   "metadata": {},
   "outputs": [],
   "source": [
    "def eval_model(y_test, y_pred):\n",
    "\n",
    "    # Calculate evaluation metrics\n",
    "    mape = mean_absolute_percentage_error(y_test, y_pred)\n",
    "    \n",
    "    print(f\"Mean Absolute Percentage Error (MAPE): {mape}\")"
   ]
  },
  {
   "cell_type": "code",
   "execution_count": 10,
   "id": "4e099354-2db9-435b-afa6-4d75a7ecc5d9",
   "metadata": {
    "scrolled": true
   },
   "outputs": [
    {
     "name": "stderr",
     "output_type": "stream",
     "text": [
      "/tmp/ipykernel_5623/1902688302.py:7: SettingWithCopyWarning: \n",
      "A value is trying to be set on a copy of a slice from a DataFrame.\n",
      "Try using .loc[row_indexer,col_indexer] = value instead\n",
      "\n",
      "See the caveats in the documentation: https://pandas.pydata.org/pandas-docs/stable/user_guide/indexing.html#returning-a-view-versus-a-copy\n",
      "  df['date'] = pd.to_datetime(df['date'])\n",
      "/tmp/ipykernel_5623/1902688302.py:8: SettingWithCopyWarning: \n",
      "A value is trying to be set on a copy of a slice from a DataFrame.\n",
      "Try using .loc[row_indexer,col_indexer] = value instead\n",
      "\n",
      "See the caveats in the documentation: https://pandas.pydata.org/pandas-docs/stable/user_guide/indexing.html#returning-a-view-versus-a-copy\n",
      "  df['year'] = df['date'].dt.year\n",
      "/tmp/ipykernel_5623/1902688302.py:9: SettingWithCopyWarning: \n",
      "A value is trying to be set on a copy of a slice from a DataFrame.\n",
      "Try using .loc[row_indexer,col_indexer] = value instead\n",
      "\n",
      "See the caveats in the documentation: https://pandas.pydata.org/pandas-docs/stable/user_guide/indexing.html#returning-a-view-versus-a-copy\n",
      "  df['month'] = df['date'].dt.month\n"
     ]
    },
    {
     "ename": "NameError",
     "evalue": "name 'new_df' is not defined",
     "output_type": "error",
     "traceback": [
      "\u001b[0;31m---------------------------------------------------------------------------\u001b[0m",
      "\u001b[0;31mNameError\u001b[0m                                 Traceback (most recent call last)",
      "Cell \u001b[0;32mIn[10], line 1\u001b[0m\n\u001b[0;32m----> 1\u001b[0m df_pre \u001b[38;5;241m=\u001b[39m \u001b[43mpreprocessing\u001b[49m\u001b[43m(\u001b[49m\u001b[43mtrain_data\u001b[49m\u001b[43m)\u001b[49m\n\u001b[1;32m      2\u001b[0m X_train, X_test, y_train, y_test \u001b[38;5;241m=\u001b[39m test_train_split(df_pre)\n\u001b[1;32m      3\u001b[0m model \u001b[38;5;241m=\u001b[39m fit_model(X_train, y_train)\n",
      "Cell \u001b[0;32mIn[4], line 12\u001b[0m, in \u001b[0;36mpreprocessing\u001b[0;34m(df, remove_date)\u001b[0m\n\u001b[1;32m      9\u001b[0m df[\u001b[38;5;124m'\u001b[39m\u001b[38;5;124mmonth\u001b[39m\u001b[38;5;124m'\u001b[39m] \u001b[38;5;241m=\u001b[39m df[\u001b[38;5;124m'\u001b[39m\u001b[38;5;124mdate\u001b[39m\u001b[38;5;124m'\u001b[39m]\u001b[38;5;241m.\u001b[39mdt\u001b[38;5;241m.\u001b[39mmonth\n\u001b[1;32m     11\u001b[0m \u001b[38;5;66;03m# Feature engineering\u001b[39;00m\n\u001b[0;32m---> 12\u001b[0m df[\u001b[38;5;124m\"\u001b[39m\u001b[38;5;124mmonth_sin\u001b[39m\u001b[38;5;124m\"\u001b[39m] \u001b[38;5;241m=\u001b[39m np\u001b[38;5;241m.\u001b[39msin(\u001b[43mnew_df\u001b[49m[\u001b[38;5;124m'\u001b[39m\u001b[38;5;124mmonth\u001b[39m\u001b[38;5;124m'\u001b[39m] \u001b[38;5;241m*\u001b[39m (\u001b[38;5;241m2\u001b[39m \u001b[38;5;241m*\u001b[39m np\u001b[38;5;241m.\u001b[39mpi \u001b[38;5;241m/\u001b[39m \u001b[38;5;241m12\u001b[39m))\n\u001b[1;32m     13\u001b[0m df[\u001b[38;5;124m\"\u001b[39m\u001b[38;5;124mmonth_cos\u001b[39m\u001b[38;5;124m\"\u001b[39m] \u001b[38;5;241m=\u001b[39m np\u001b[38;5;241m.\u001b[39mcos(new_df[\u001b[38;5;124m'\u001b[39m\u001b[38;5;124mmonth\u001b[39m\u001b[38;5;124m'\u001b[39m] \u001b[38;5;241m*\u001b[39m (\u001b[38;5;241m2\u001b[39m \u001b[38;5;241m*\u001b[39m np\u001b[38;5;241m.\u001b[39mpi \u001b[38;5;241m/\u001b[39m \u001b[38;5;241m12\u001b[39m))\n\u001b[1;32m     15\u001b[0m df[\u001b[38;5;124m'\u001b[39m\u001b[38;5;124mday\u001b[39m\u001b[38;5;124m'\u001b[39m] \u001b[38;5;241m=\u001b[39m df[\u001b[38;5;124m'\u001b[39m\u001b[38;5;124mdate\u001b[39m\u001b[38;5;124m'\u001b[39m]\u001b[38;5;241m.\u001b[39mdt\u001b[38;5;241m.\u001b[39mday\n",
      "\u001b[0;31mNameError\u001b[0m: name 'new_df' is not defined"
     ]
    }
   ],
   "source": [
    "df_pre = preprocessing(train_data)\n",
    "X_train, X_test, y_train, y_test = test_train_split(df_pre)\n",
    "model = fit_model(X_train, y_train)\n",
    "y_pred = model_predict(model, X_test)\n",
    "eval_model(y_test, y_pred)"
   ]
  },
  {
   "cell_type": "code",
   "execution_count": null,
   "id": "7ff75acf-d771-4b50-91ea-4bafd75276d2",
   "metadata": {},
   "outputs": [],
   "source": [
    "# Plot actual vs. predicted values\n",
    "y = pd.concat([y_train, y_test])\n",
    "\n",
    "plt.figure(figsize=(8, 6))\n",
    "plt.scatter(y_test, y_pred, color='blue', label='Actual vs. Predicted')\n",
    "plt.plot([y.min(), y.max()], [y.min(), y.max()], color='red', linestyle='--', label='Ideal Fit')\n",
    "plt.xlabel('Actual num_sold')\n",
    "plt.ylabel('Predicted num_sold')\n",
    "plt.title('Linear Regression: Actual vs. Predicted')\n",
    "plt.legend()\n",
    "plt.show()"
   ]
  },
  {
   "cell_type": "code",
   "execution_count": null,
   "id": "2aed20da-16f0-4adb-8a9b-a76bc88f74ae",
   "metadata": {},
   "outputs": [],
   "source": [
    "def run_model_on_test(train_data, test_data, save_path=\"submission.csv\"):\n",
    "    train_data_pp =  preprocessing(train_data, remove_date=False)\n",
    "    test_data_pp = preprocessing(test_data, remove_date=True)\n",
    "\n",
    "    X = train_data_pp.drop(columns=['num_sold', 'date'])\n",
    "    y = train_data_pp['num_sold']\n",
    "    model = fit_model(X, y)\n",
    "    y_pred = model_predict(model, test_data_pp)\n",
    "\n",
    "    timestamp = datetime.now().strftime(\"%Y-%m-%d_%H-%M-%S\")  # Format: YYYYMMDD_HHMMSS\n",
    "    # Append the timestamp to the save_path\n",
    "    save_path_with_timestamp = f\"{save_path}_{timestamp}.csv\"\n",
    "\n",
    "    submission = pd.DataFrame(data={'num_sold': y_pred}, index=test_data[\"id\"])\n",
    "    if save_path:\n",
    "        submission.to_csv(save_path_with_timestamp)\n",
    "    return submission\n",
    "    \n",
    "\n",
    "    "
   ]
  },
  {
   "cell_type": "code",
   "execution_count": null,
   "id": "bbf9a99a-4751-4e6e-901d-b296f4d09445",
   "metadata": {
    "scrolled": true
   },
   "outputs": [],
   "source": [
    "submission = run_model_on_test(train_data, test_data)"
   ]
  },
  {
   "cell_type": "code",
   "execution_count": null,
   "id": "f6ba1593-d99e-4890-a1e0-084a8de9e73d",
   "metadata": {},
   "outputs": [],
   "source": [
    "submission"
   ]
  },
  {
   "cell_type": "code",
   "execution_count": null,
   "id": "916808d3-a080-48f2-95f7-5f782ccf39d8",
   "metadata": {},
   "outputs": [],
   "source": []
  }
 ],
 "metadata": {
  "kernelspec": {
   "display_name": "Python 3.11",
   "language": "python",
   "name": "py311"
  },
  "language_info": {
   "codemirror_mode": {
    "name": "ipython",
    "version": 3
   },
   "file_extension": ".py",
   "mimetype": "text/x-python",
   "name": "python",
   "nbconvert_exporter": "python",
   "pygments_lexer": "ipython3",
   "version": "3.11.11"
  }
 },
 "nbformat": 4,
 "nbformat_minor": 5
}
